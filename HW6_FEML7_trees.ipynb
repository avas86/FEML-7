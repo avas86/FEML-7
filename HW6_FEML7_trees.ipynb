{
 "cells": [
  {
   "cell_type": "markdown",
   "id": "afbf867d",
   "metadata": {},
   "source": [
    "### Домашнее задание «Деревья решений»\n",
    "Для выполнения домашнего задания необходимо взять файл boston house-prices datase (sklearn.datasets.load_boston) и построить модель.\n",
    "По аналогии задания к лекции «Классификация: Логистическая регрессия и SVM».\n",
    "А именно построить модель регрессии, дерево решений, оптимизировать параметры и сравнить результаты."
   ]
  },
  {
   "cell_type": "code",
   "execution_count": 4,
   "id": "dbc70947",
   "metadata": {},
   "outputs": [],
   "source": [
    "from sklearn.datasets import load_boston\n",
    "import pandas as pd\n",
    "import seaborn as sns\n",
    "import numpy as np\n",
    "from sklearn.tree import DecisionTreeRegressor\n",
    "import matplotlib.pyplot as plt\n",
    "from sklearn.model_selection import train_test_split"
   ]
  },
  {
   "cell_type": "code",
   "execution_count": 5,
   "id": "1ab9fe39",
   "metadata": {},
   "outputs": [
    {
     "name": "stderr",
     "output_type": "stream",
     "text": [
      "C:\\Users\\Cyberdyne\\anaconda3\\lib\\site-packages\\sklearn\\utils\\deprecation.py:87: FutureWarning: Function load_boston is deprecated; `load_boston` is deprecated in 1.0 and will be removed in 1.2.\n",
      "\n",
      "    The Boston housing prices dataset has an ethical problem. You can refer to\n",
      "    the documentation of this function for further details.\n",
      "\n",
      "    The scikit-learn maintainers therefore strongly discourage the use of this\n",
      "    dataset unless the purpose of the code is to study and educate about\n",
      "    ethical issues in data science and machine learning.\n",
      "\n",
      "    In this special case, you can fetch the dataset from the original\n",
      "    source::\n",
      "\n",
      "        import pandas as pd\n",
      "        import numpy as np\n",
      "\n",
      "\n",
      "        data_url = \"http://lib.stat.cmu.edu/datasets/boston\"\n",
      "        raw_df = pd.read_csv(data_url, sep=\"\\s+\", skiprows=22, header=None)\n",
      "        data = np.hstack([raw_df.values[::2, :], raw_df.values[1::2, :2]])\n",
      "        target = raw_df.values[1::2, 2]\n",
      "\n",
      "    Alternative datasets include the California housing dataset (i.e.\n",
      "    :func:`~sklearn.datasets.fetch_california_housing`) and the Ames housing\n",
      "    dataset. You can load the datasets as follows::\n",
      "\n",
      "        from sklearn.datasets import fetch_california_housing\n",
      "        housing = fetch_california_housing()\n",
      "\n",
      "    for the California housing dataset and::\n",
      "\n",
      "        from sklearn.datasets import fetch_openml\n",
      "        housing = fetch_openml(name=\"house_prices\", as_frame=True)\n",
      "\n",
      "    for the Ames housing dataset.\n",
      "    \n",
      "  warnings.warn(msg, category=FutureWarning)\n"
     ]
    },
    {
     "data": {
      "text/html": [
       "<div>\n",
       "<style scoped>\n",
       "    .dataframe tbody tr th:only-of-type {\n",
       "        vertical-align: middle;\n",
       "    }\n",
       "\n",
       "    .dataframe tbody tr th {\n",
       "        vertical-align: top;\n",
       "    }\n",
       "\n",
       "    .dataframe thead th {\n",
       "        text-align: right;\n",
       "    }\n",
       "</style>\n",
       "<table border=\"1\" class=\"dataframe\">\n",
       "  <thead>\n",
       "    <tr style=\"text-align: right;\">\n",
       "      <th></th>\n",
       "      <th>CRIM</th>\n",
       "      <th>ZN</th>\n",
       "      <th>INDUS</th>\n",
       "      <th>CHAS</th>\n",
       "      <th>NOX</th>\n",
       "      <th>RM</th>\n",
       "      <th>AGE</th>\n",
       "      <th>DIS</th>\n",
       "      <th>RAD</th>\n",
       "      <th>TAX</th>\n",
       "      <th>PTRATIO</th>\n",
       "      <th>B</th>\n",
       "      <th>LSTAT</th>\n",
       "      <th>MEDV</th>\n",
       "    </tr>\n",
       "  </thead>\n",
       "  <tbody>\n",
       "    <tr>\n",
       "      <th>0</th>\n",
       "      <td>0.00632</td>\n",
       "      <td>18.0</td>\n",
       "      <td>2.31</td>\n",
       "      <td>0.0</td>\n",
       "      <td>0.538</td>\n",
       "      <td>6.575</td>\n",
       "      <td>65.2</td>\n",
       "      <td>4.0900</td>\n",
       "      <td>1.0</td>\n",
       "      <td>296.0</td>\n",
       "      <td>15.3</td>\n",
       "      <td>396.90</td>\n",
       "      <td>4.98</td>\n",
       "      <td>24.0</td>\n",
       "    </tr>\n",
       "    <tr>\n",
       "      <th>1</th>\n",
       "      <td>0.02731</td>\n",
       "      <td>0.0</td>\n",
       "      <td>7.07</td>\n",
       "      <td>0.0</td>\n",
       "      <td>0.469</td>\n",
       "      <td>6.421</td>\n",
       "      <td>78.9</td>\n",
       "      <td>4.9671</td>\n",
       "      <td>2.0</td>\n",
       "      <td>242.0</td>\n",
       "      <td>17.8</td>\n",
       "      <td>396.90</td>\n",
       "      <td>9.14</td>\n",
       "      <td>21.6</td>\n",
       "    </tr>\n",
       "    <tr>\n",
       "      <th>2</th>\n",
       "      <td>0.02729</td>\n",
       "      <td>0.0</td>\n",
       "      <td>7.07</td>\n",
       "      <td>0.0</td>\n",
       "      <td>0.469</td>\n",
       "      <td>7.185</td>\n",
       "      <td>61.1</td>\n",
       "      <td>4.9671</td>\n",
       "      <td>2.0</td>\n",
       "      <td>242.0</td>\n",
       "      <td>17.8</td>\n",
       "      <td>392.83</td>\n",
       "      <td>4.03</td>\n",
       "      <td>34.7</td>\n",
       "    </tr>\n",
       "    <tr>\n",
       "      <th>3</th>\n",
       "      <td>0.03237</td>\n",
       "      <td>0.0</td>\n",
       "      <td>2.18</td>\n",
       "      <td>0.0</td>\n",
       "      <td>0.458</td>\n",
       "      <td>6.998</td>\n",
       "      <td>45.8</td>\n",
       "      <td>6.0622</td>\n",
       "      <td>3.0</td>\n",
       "      <td>222.0</td>\n",
       "      <td>18.7</td>\n",
       "      <td>394.63</td>\n",
       "      <td>2.94</td>\n",
       "      <td>33.4</td>\n",
       "    </tr>\n",
       "    <tr>\n",
       "      <th>4</th>\n",
       "      <td>0.06905</td>\n",
       "      <td>0.0</td>\n",
       "      <td>2.18</td>\n",
       "      <td>0.0</td>\n",
       "      <td>0.458</td>\n",
       "      <td>7.147</td>\n",
       "      <td>54.2</td>\n",
       "      <td>6.0622</td>\n",
       "      <td>3.0</td>\n",
       "      <td>222.0</td>\n",
       "      <td>18.7</td>\n",
       "      <td>396.90</td>\n",
       "      <td>5.33</td>\n",
       "      <td>36.2</td>\n",
       "    </tr>\n",
       "  </tbody>\n",
       "</table>\n",
       "</div>"
      ],
      "text/plain": [
       "      CRIM    ZN  INDUS  CHAS    NOX     RM   AGE     DIS  RAD    TAX  \\\n",
       "0  0.00632  18.0   2.31   0.0  0.538  6.575  65.2  4.0900  1.0  296.0   \n",
       "1  0.02731   0.0   7.07   0.0  0.469  6.421  78.9  4.9671  2.0  242.0   \n",
       "2  0.02729   0.0   7.07   0.0  0.469  7.185  61.1  4.9671  2.0  242.0   \n",
       "3  0.03237   0.0   2.18   0.0  0.458  6.998  45.8  6.0622  3.0  222.0   \n",
       "4  0.06905   0.0   2.18   0.0  0.458  7.147  54.2  6.0622  3.0  222.0   \n",
       "\n",
       "   PTRATIO       B  LSTAT  MEDV  \n",
       "0     15.3  396.90   4.98  24.0  \n",
       "1     17.8  396.90   9.14  21.6  \n",
       "2     17.8  392.83   4.03  34.7  \n",
       "3     18.7  394.63   2.94  33.4  \n",
       "4     18.7  396.90   5.33  36.2  "
      ]
     },
     "execution_count": 5,
     "metadata": {},
     "output_type": "execute_result"
    }
   ],
   "source": [
    "boston = load_boston()\n",
    "X = pd.DataFrame(boston.data, columns = boston.feature_names)\n",
    "y = pd.DataFrame(boston.target, columns = ['MEDV'])\n",
    "df_boston = pd.concat([X,y], axis = 1)\n",
    "df_boston.head()"
   ]
  },
  {
   "cell_type": "code",
   "execution_count": 6,
   "id": "ed0509ca",
   "metadata": {},
   "outputs": [
    {
     "name": "stdout",
     "output_type": "stream",
     "text": [
      "<class 'pandas.core.frame.DataFrame'>\n",
      "RangeIndex: 506 entries, 0 to 505\n",
      "Data columns (total 14 columns):\n",
      " #   Column   Non-Null Count  Dtype  \n",
      "---  ------   --------------  -----  \n",
      " 0   CRIM     506 non-null    float64\n",
      " 1   ZN       506 non-null    float64\n",
      " 2   INDUS    506 non-null    float64\n",
      " 3   CHAS     506 non-null    float64\n",
      " 4   NOX      506 non-null    float64\n",
      " 5   RM       506 non-null    float64\n",
      " 6   AGE      506 non-null    float64\n",
      " 7   DIS      506 non-null    float64\n",
      " 8   RAD      506 non-null    float64\n",
      " 9   TAX      506 non-null    float64\n",
      " 10  PTRATIO  506 non-null    float64\n",
      " 11  B        506 non-null    float64\n",
      " 12  LSTAT    506 non-null    float64\n",
      " 13  MEDV     506 non-null    float64\n",
      "dtypes: float64(14)\n",
      "memory usage: 55.5 KB\n"
     ]
    }
   ],
   "source": [
    "df_boston.info()"
   ]
  },
  {
   "cell_type": "markdown",
   "id": "d26738bb",
   "metadata": {},
   "source": [
    "пропущенных значений в данных нет"
   ]
  },
  {
   "cell_type": "code",
   "execution_count": 7,
   "id": "284f65d1",
   "metadata": {},
   "outputs": [],
   "source": [
    "# признаки, которые будем использовать в модели\n",
    "col = ['CRIM', 'ZN', 'INDUS', 'CHAS', 'NOX', 'RM', 'AGE', 'DIS', 'RAD', 'TAX', 'PTRATIO', 'B', 'LSTAT']\n",
    "target = ['MEDV']"
   ]
  },
  {
   "cell_type": "code",
   "execution_count": 8,
   "id": "05bd9eee",
   "metadata": {},
   "outputs": [
    {
     "data": {
      "text/plain": [
       "'score model = 0.707'"
      ]
     },
     "execution_count": 8,
     "metadata": {},
     "output_type": "execute_result"
    }
   ],
   "source": [
    "X_train, X_test, y_train, y_test = train_test_split(X, y, test_size=0.25, random_state = 30)\n",
    "\n",
    "# модель без оптимизации параметров\n",
    "def model_score(X,y):\n",
    "    model = DecisionTreeRegressor(random_state = 30)\n",
    "    model.fit(X_train, y_train)\n",
    "    return ('score model = {:.3f}'.format(model.score(X_test, y_test)))\n",
    "\n",
    "model_score(df_boston[col], df_boston[target])"
   ]
  },
  {
   "cell_type": "code",
   "execution_count": 22,
   "id": "f994432e",
   "metadata": {},
   "outputs": [],
   "source": [
    "# функция для подбора оптимального количества объектов в листах по величине Score \n",
    "def leaf_optimum(leaf):\n",
    "    score_max = 0\n",
    "    i_min = 1\n",
    "    for i in range(len(leaf)):\n",
    "        cnt_l = DecisionTreeRegressor(min_samples_leaf = leaf[i], random_state = 30)\n",
    "        cnt_l.fit(X_train, y_train)\n",
    "        score = cnt_l.score(X_test, y_test)\n",
    "        print(f'{leaf[i]}   {score:.3f}')\n",
    "        if score_max < score:\n",
    "            score_max, i_min = score, i\n",
    "    print(f'Оптимальное количество объектов в листе:{leaf[i_min]}, score:{score_max:.3f}')"
   ]
  },
  {
   "cell_type": "code",
   "execution_count": 23,
   "id": "a1e28c20",
   "metadata": {},
   "outputs": [
    {
     "name": "stdout",
     "output_type": "stream",
     "text": [
      "1   0.707\n",
      "2   0.798\n",
      "3   0.787\n",
      "4   0.781\n",
      "5   0.798\n",
      "6   0.840\n",
      "7   0.828\n",
      "8   0.811\n",
      "9   0.802\n",
      "10   0.785\n",
      "11   0.795\n",
      "12   0.803\n",
      "13   0.798\n",
      "14   0.795\n",
      "15   0.798\n",
      "16   0.794\n",
      "17   0.790\n",
      "18   0.823\n",
      "19   0.819\n",
      "20   0.816\n",
      "21   0.813\n",
      "22   0.812\n",
      "23   0.811\n",
      "24   0.811\n",
      "25   0.805\n",
      "26   0.789\n",
      "27   0.732\n",
      "28   0.713\n",
      "29   0.703\n",
      "30   0.706\n",
      "Оптимальное количество объектов в листе:6, score:0.840\n"
     ]
    }
   ],
   "source": [
    "leaf = [x+1 for x in range(30)]\n",
    "leaf_optimum(leaf)"
   ]
  },
  {
   "cell_type": "code",
   "execution_count": 30,
   "id": "65144622",
   "metadata": {
    "scrolled": true
   },
   "outputs": [],
   "source": [
    "# функция подбора оптимальной глубины дерева\n",
    "def depth_optimum(depth):\n",
    "    score_max = 0 \n",
    "    i_max = 1\n",
    "    for i in range(len(depth)):\n",
    "        cnt_d = DecisionTreeRegressor(max_depth=depth[i], min_samples_leaf = 6, random_state = 30)\n",
    "        cnt_d.fit(X_train, y_train)\n",
    "        score = cnt_d.score(X_test, y_test)\n",
    "        print(f'{depth[i]}  {score:.3f}')\n",
    "        if score_max < score:\n",
    "            score_max, i_max = score, i\n",
    "    print(f'Оптимальная глубина дерева:{depth[i_max]}, score:{score_max:.3f}')"
   ]
  },
  {
   "cell_type": "code",
   "execution_count": 31,
   "id": "8a18d472",
   "metadata": {},
   "outputs": [
    {
     "name": "stdout",
     "output_type": "stream",
     "text": [
      "1  0.373\n",
      "2  0.688\n",
      "3  0.707\n",
      "4  0.823\n",
      "5  0.822\n",
      "6  0.826\n",
      "7  0.836\n",
      "8  0.839\n",
      "9  0.843\n",
      "10  0.842\n",
      "11  0.840\n",
      "12  0.840\n",
      "13  0.840\n",
      "14  0.840\n",
      "15  0.840\n",
      "16  0.840\n",
      "17  0.840\n",
      "18  0.840\n",
      "19  0.840\n",
      "20  0.840\n",
      "Оптимальная глубина дерева:9, score:0.843\n"
     ]
    }
   ],
   "source": [
    "depth = [x+1 for x in range(20)]\n",
    "depth_optimum(depth)"
   ]
  },
  {
   "cell_type": "code",
   "execution_count": 36,
   "id": "02f0457d",
   "metadata": {},
   "outputs": [
    {
     "data": {
      "text/plain": [
       "0.8434270985955716"
      ]
     },
     "execution_count": 36,
     "metadata": {},
     "output_type": "execute_result"
    }
   ],
   "source": [
    "# Score модели удалось улучшить на 13,6% с 0.707 до 0,843\n",
    "mod = DecisionTreeRegressor(max_depth=9, min_samples_leaf = 6, random_state = 30)\n",
    "mod.fit(X_train, y_train)\n",
    "mod.score(X_test, y_test)"
   ]
  },
  {
   "cell_type": "code",
   "execution_count": 33,
   "id": "bd35986a",
   "metadata": {},
   "outputs": [],
   "source": [
    "# также попробуем подобрать параметры встроенными средствами\n",
    "from sklearn.model_selection import RandomizedSearchCV\n",
    "\n",
    "rms = RandomizedSearchCV(DecisionTreeRegressor(random_state = 30), {'max_depth':depth, 'min_samples_leaf': leaf}).fit(X_train, y_train)"
   ]
  },
  {
   "cell_type": "code",
   "execution_count": 34,
   "id": "252ae2fa",
   "metadata": {},
   "outputs": [
    {
     "data": {
      "text/plain": [
       "{'min_samples_leaf': 3, 'max_depth': 20}"
      ]
     },
     "execution_count": 34,
     "metadata": {},
     "output_type": "execute_result"
    }
   ],
   "source": [
    "rms.best_params_"
   ]
  },
  {
   "cell_type": "code",
   "execution_count": 35,
   "id": "c691ec23",
   "metadata": {},
   "outputs": [
    {
     "data": {
      "text/plain": [
       "0.7542243118605498"
      ]
     },
     "execution_count": 35,
     "metadata": {},
     "output_type": "execute_result"
    }
   ],
   "source": [
    "rms.best_score_"
   ]
  },
  {
   "cell_type": "markdown",
   "id": "b41d6160",
   "metadata": {},
   "source": [
    "как видим, подбор встроенными средствами показал менее оптимальные параметры"
   ]
  }
 ],
 "metadata": {
  "kernelspec": {
   "display_name": "Python 3 (ipykernel)",
   "language": "python",
   "name": "python3"
  },
  "language_info": {
   "codemirror_mode": {
    "name": "ipython",
    "version": 3
   },
   "file_extension": ".py",
   "mimetype": "text/x-python",
   "name": "python",
   "nbconvert_exporter": "python",
   "pygments_lexer": "ipython3",
   "version": "3.9.7"
  }
 },
 "nbformat": 4,
 "nbformat_minor": 5
}
