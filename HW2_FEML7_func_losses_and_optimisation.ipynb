{
 "cells": [
  {
   "cell_type": "markdown",
   "id": "617f5cde",
   "metadata": {},
   "source": [
    "### Задание\n",
    "Прочитать про методы оптимизации для нейронных сетей https://habr.com/post/318970/  \n",
    "Реализовать самостоятельно логистическую регрессию  \n",
    "Обучить ее методом градиентного спуска  \n",
    "Методом nesterov momentum  \n",
    "Методом rmsprop  \n",
    "*Дополнительное задание:  \n",
    "В качестве dataset’а взять `Iris`, оставив 2 класса:  \n",
    "Iris Versicolor  \n",
    "Iris Virginica* "
   ]
  },
  {
   "cell_type": "code",
   "execution_count": 96,
   "id": "d52cbb7a",
   "metadata": {},
   "outputs": [],
   "source": [
    "import numpy as np\n",
    "from sklearn import datasets\n",
    "from sklearn.model_selection import train_test_split\n",
    "from sklearn.metrics import accuracy_score\n",
    "import matplotlib.pyplot as plt"
   ]
  },
  {
   "cell_type": "code",
   "execution_count": 97,
   "id": "da5e6838",
   "metadata": {},
   "outputs": [
    {
     "data": {
      "text/plain": [
       "array(['setosa', 'versicolor', 'virginica'], dtype='<U10')"
      ]
     },
     "execution_count": 97,
     "metadata": {},
     "output_type": "execute_result"
    }
   ],
   "source": [
    "iris = datasets.load_iris()\n",
    "iris['target_names']"
   ]
  },
  {
   "cell_type": "code",
   "execution_count": 98,
   "id": "7d2114c1",
   "metadata": {},
   "outputs": [
    {
     "data": {
      "text/plain": [
       "array([0, 0, 0, 0, 0, 0, 0, 0, 0, 0, 0, 0, 0, 0, 0, 0, 0, 0, 0, 0, 0, 0,\n",
       "       0, 0, 0, 0, 0, 0, 0, 0, 0, 0, 0, 0, 0, 0, 0, 0, 0, 0, 0, 0, 0, 0,\n",
       "       0, 0, 0, 0, 0, 0, 1, 1, 1, 1, 1, 1, 1, 1, 1, 1, 1, 1, 1, 1, 1, 1,\n",
       "       1, 1, 1, 1, 1, 1, 1, 1, 1, 1, 1, 1, 1, 1, 1, 1, 1, 1, 1, 1, 1, 1,\n",
       "       1, 1, 1, 1, 1, 1, 1, 1, 1, 1, 1, 1, 2, 2, 2, 2, 2, 2, 2, 2, 2, 2,\n",
       "       2, 2, 2, 2, 2, 2, 2, 2, 2, 2, 2, 2, 2, 2, 2, 2, 2, 2, 2, 2, 2, 2,\n",
       "       2, 2, 2, 2, 2, 2, 2, 2, 2, 2, 2, 2, 2, 2, 2, 2, 2, 2])"
      ]
     },
     "execution_count": 98,
     "metadata": {},
     "output_type": "execute_result"
    }
   ],
   "source": [
    "iris['target']"
   ]
  },
  {
   "cell_type": "code",
   "execution_count": 99,
   "id": "d45540a8",
   "metadata": {},
   "outputs": [
    {
     "name": "stdout",
     "output_type": "stream",
     "text": [
      "[0 0 0 0 0 0 0 0 0 0 0 0 0 0 0 0 0 0 0 0 0 0 0 0 0 0 0 0 0 0 0 0 0 0 0 0 0\n",
      " 0 0 0 0 0 0 0 0 0 0 0 0 0 1 1 1 1 1 1 1 1 1 1 1 1 1 1 1 1 1 1 1 1 1 1 1 1\n",
      " 1 1 1 1 1 1 1 1 1 1 1 1 1 1 1 1 1 1 1 1 1 1 1 1 1 1]\n"
     ]
    }
   ],
   "source": [
    "X = []\n",
    "y = []\n",
    "for idx, item in enumerate(iris.target):\n",
    "    if item != 0:\n",
    "        X.append(iris.data[idx])\n",
    "        y.append(item-1)\n",
    "\n",
    "X = np.asarray(X)\n",
    "y = np.asarray(y)\n",
    "print(y)"
   ]
  },
  {
   "cell_type": "code",
   "execution_count": 100,
   "id": "932b9819",
   "metadata": {},
   "outputs": [],
   "source": [
    "# Классифицирующая функция через сигмоиду\n",
    "def predict(coefs, X):\n",
    "    predict = coefs[0] + coefs[1] * X[:, 0] + coefs[2] * X[:, 1] + coefs[3] * X[:, 2] + coefs[4] * X[:, 3]\n",
    "    sigm = 1. / (1 + np.exp(-predict))\n",
    "    return sigm"
   ]
  },
  {
   "cell_type": "markdown",
   "id": "f69e3d7e",
   "metadata": {},
   "source": [
    "### Метод градиентного спуска"
   ]
  },
  {
   "cell_type": "code",
   "execution_count": 101,
   "id": "1e89b2af",
   "metadata": {},
   "outputs": [
    {
     "name": "stdout",
     "output_type": "stream",
     "text": [
      "[ 0.30132758  1.62053592 -1.51913536 -1.43955223  2.31285074]\n"
     ]
    }
   ],
   "source": [
    "lr = 0.05\n",
    "coefs = []\n",
    "coefs = np.random.normal(size=(5,))\n",
    "print(coefs)\n",
    "grad_loss_hist = []\n",
    "for i in range(100):\n",
    "    sigm = predict(coefs, X)\n",
    "    coefs[0] -= lr * np.sum(sigm - y)/len(sigm)\n",
    "    coefs[1] -= lr * np.sum((sigm - y) * X[:, 0])/len(sigm)\n",
    "    coefs[2] -= lr * np.sum((sigm - y) * X[:, 1])/len(sigm)\n",
    "    coefs[3] -= lr * np.sum((sigm - y) * X[:, 2])/len(sigm)\n",
    "    coefs[4] -= lr * np.sum((sigm - y) * X[:, 3])/len(sigm)\n",
    "    loss = - np.mean(np.log(sigm) * y + np.log(1 - sigm) * (1 - y))\n",
    "    #print(coefs)\n",
    "    grad_loss_hist.append(loss)"
   ]
  },
  {
   "cell_type": "code",
   "execution_count": 102,
   "id": "bd355528",
   "metadata": {},
   "outputs": [
    {
     "data": {
      "text/plain": [
       "24"
      ]
     },
     "execution_count": 102,
     "metadata": {},
     "output_type": "execute_result"
    }
   ],
   "source": [
    "# количество ошибок при классификации\n",
    "err = 0\n",
    "for idx, item in enumerate(np.around(predict(coefs, X))):\n",
    "    if item != y[idx]:\n",
    "        err += 1\n",
    "err"
   ]
  },
  {
   "cell_type": "code",
   "execution_count": 103,
   "id": "441fee86",
   "metadata": {},
   "outputs": [
    {
     "data": {
      "text/plain": [
       "matrix([[0., 0., 0., 1., 1., 0., 0., 0., 0., 0., 1., 0., 1., 0., 0., 0.,\n",
       "         0., 0., 1., 0., 0., 1., 1., 0., 0., 1., 1., 1., 0., 0., 0., 0.,\n",
       "         0., 0., 0., 0., 0., 1., 0., 1., 0., 0., 0., 0., 0., 0., 0., 0.,\n",
       "         1., 0., 1., 1., 1., 0., 1., 1., 1., 0., 1., 1., 1., 1., 1., 1.,\n",
       "         1., 1., 0., 0., 1., 1., 1., 1., 1., 1., 1., 0., 1., 1., 1., 0.,\n",
       "         1., 0., 1., 0., 0., 1., 1., 0., 1., 1., 1., 1., 1., 1., 1., 1.,\n",
       "         1., 1., 1., 0.],\n",
       "        [0., 0., 0., 0., 0., 0., 0., 0., 0., 0., 0., 0., 0., 0., 0., 0.,\n",
       "         0., 0., 0., 0., 0., 0., 0., 0., 0., 0., 0., 0., 0., 0., 0., 0.,\n",
       "         0., 0., 0., 0., 0., 0., 0., 0., 0., 0., 0., 0., 0., 0., 0., 0.,\n",
       "         0., 0., 1., 1., 1., 1., 1., 1., 1., 1., 1., 1., 1., 1., 1., 1.,\n",
       "         1., 1., 1., 1., 1., 1., 1., 1., 1., 1., 1., 1., 1., 1., 1., 1.,\n",
       "         1., 1., 1., 1., 1., 1., 1., 1., 1., 1., 1., 1., 1., 1., 1., 1.,\n",
       "         1., 1., 1., 1.]])"
      ]
     },
     "execution_count": 103,
     "metadata": {},
     "output_type": "execute_result"
    }
   ],
   "source": [
    "# сравнение результатов классификации\n",
    "rez_predict = np.matrix([np.around(predict(coefs, X)), y])\n",
    "rez_predict"
   ]
  },
  {
   "cell_type": "markdown",
   "id": "e6048cd1",
   "metadata": {},
   "source": [
    "### Метод nesterov momentum"
   ]
  },
  {
   "cell_type": "code",
   "execution_count": 104,
   "id": "644e1b76",
   "metadata": {},
   "outputs": [
    {
     "name": "stdout",
     "output_type": "stream",
     "text": [
      "[ 0.08247428  0.93399542 -1.84673778 -1.01257909  2.68284416]\n"
     ]
    }
   ],
   "source": [
    "# обучение модели методом nesterov momentum\n",
    "vel_pred = np.zeros(5)\n",
    "vel = np.zeros(5)\n",
    "print(coefs)\n",
    "nest_loss_hist = []\n",
    "gamma = 0.975\n",
    "for i in range(100):\n",
    "    sigm = predict(coefs, X)\n",
    "    loss = - np.mean(np.log(sigm) * y + np.log(1 - sigm) * (1 - y))\n",
    "    nest_loss_hist.append(loss)\n",
    "    \n",
    "    sigm = predict(coefs - gamma * vel_pred, X)\n",
    "    \n",
    "    vel[0] = (gamma * vel_pred[0] + lr * np.sum(sigm - y))/len(sigm)\n",
    "    vel[1] = (gamma * vel_pred[1] + lr * np.sum((sigm - y) * X[:, 0]))/len(sigm)\n",
    "    vel[2] = (gamma * vel_pred[2] + lr * np.sum((sigm - y) * X[:, 1]))/len(sigm)\n",
    "    vel[3] = (gamma * vel_pred[3] + lr * np.sum((sigm - y) * X[:, 2]))/len(sigm)\n",
    "    vel[4] = (gamma * vel_pred[4] + lr * np.sum((sigm - y) * X[:, 3]))/len(sigm)\n",
    "    coefs -= vel\n",
    "    #print(coefs)\n",
    "\n",
    "    vel_pred = vel"
   ]
  },
  {
   "cell_type": "code",
   "execution_count": 105,
   "id": "fac37ce3",
   "metadata": {},
   "outputs": [
    {
     "data": {
      "text/plain": [
       "22"
      ]
     },
     "execution_count": 105,
     "metadata": {},
     "output_type": "execute_result"
    }
   ],
   "source": [
    "# количество ошибок при классификации\n",
    "err = 0\n",
    "for idx, item in enumerate(np.around(predict(coefs, X))):\n",
    "    if item != y[idx]:\n",
    "        err += 1\n",
    "err"
   ]
  },
  {
   "cell_type": "markdown",
   "id": "3e168ce3",
   "metadata": {},
   "source": [
    "### Метод RMSProp"
   ]
  },
  {
   "cell_type": "code",
   "execution_count": 106,
   "id": "26f7d504",
   "metadata": {},
   "outputs": [
    {
     "name": "stdout",
     "output_type": "stream",
     "text": [
      "[-0.06884645  0.60795656 -2.0187193  -0.45724863  3.07073969]\n"
     ]
    }
   ],
   "source": [
    "# обучение модели методом RMSProp\n",
    "e_sq_grad = np.zeros(5)\n",
    "grad = np.zeros(5)\n",
    "print(coefs)\n",
    "rmsp_loss_hist = []\n",
    "gamma = 0.975\n",
    "eps = 0.00000001\n",
    "for i in range(100):\n",
    "    sigm = predict(coefs, X)\n",
    "    loss = - np.mean(np.log(sigm) * y + np.log(1 - sigm) * (1 - y))\n",
    "    rmsp_loss_hist.append(loss)\n",
    "    grad[0] = np.sum(sigm - y)/len(sigm)\n",
    "    grad[1] = np.sum((sigm - y) * X[:, 0])/len(sigm)\n",
    "    grad[2] = np.sum((sigm - y) * X[:, 1])/len(sigm)\n",
    "    grad[3] = np.sum((sigm - y) * X[:, 2])/len(sigm)\n",
    "    grad[4] = np.sum((sigm - y) * X[:, 3])/len(sigm)\n",
    "    \n",
    "    e_sq_grad = gamma * e_sq_grad + (1 - gamma)  * grad ** 2\n",
    "    \n",
    "    coefs -= lr * grad / np.sqrt(e_sq_grad + eps)\n",
    "    #print(coefs)"
   ]
  },
  {
   "cell_type": "code",
   "execution_count": 107,
   "id": "25d7bc57",
   "metadata": {},
   "outputs": [
    {
     "data": {
      "text/plain": [
       "7"
      ]
     },
     "execution_count": 107,
     "metadata": {},
     "output_type": "execute_result"
    }
   ],
   "source": [
    "# количество ошибок при классификации\n",
    "err = 0\n",
    "for idx, item in enumerate(np.around(predict(coefs, X))):\n",
    "    if item != y[idx]:\n",
    "        err += 1\n",
    "err"
   ]
  },
  {
   "cell_type": "code",
   "execution_count": 108,
   "id": "10a6f73d",
   "metadata": {},
   "outputs": [
    {
     "data": {
      "image/png": "[encoded data removed]",
      "text/plain": [
       "<Figure size 432x288 with 1 Axes>"
      ]
     },
     "metadata": {
      "needs_background": "light"
     },
     "output_type": "display_data"
    }
   ],
   "source": [
    "# Скорость убывания ошибки\n",
    "plt.plot(range(100), grad_loss_hist, label = 'Gradient')\n",
    "plt.plot(range(100), nest_loss_hist, label = 'Nesterov momentum')\n",
    "plt.plot(range(100), rmsp_loss_hist, label = 'RMSProp')\n",
    "plt.title('Compai')\n",
    "plt.xlabel('Step', fontsize = 15)\n",
    "plt.ylabel('Loss', fontsize = 15)\n",
    "plt.legend()\n",
    "plt.show()"
   ]
  },
  {
   "cell_type": "markdown",
   "id": "60fc9fc6",
   "metadata": {},
   "source": [
    "# У RMSProp лучший результат"
   ]
  },
  {
   "cell_type": "code",
   "execution_count": null,
   "id": "a71896d0",
   "metadata": {},
   "outputs": [],
   "source": []
  }
 ],
 "metadata": {
  "kernelspec": {
   "display_name": "Python 3 (ipykernel)",
   "language": "python",
   "name": "python3"
  },
  "language_info": {
   "codemirror_mode": {
    "name": "ipython",
    "version": 3
   },
   "file_extension": ".py",
   "mimetype": "text/x-python",
   "name": "python",
   "nbconvert_exporter": "python",
   "pygments_lexer": "ipython3",
   "version": "3.9.7"
  }
 },
 "nbformat": 4,
 "nbformat_minor": 5
}
