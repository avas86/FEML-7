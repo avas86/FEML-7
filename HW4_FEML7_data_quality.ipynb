{
 "cells": [
  {
   "cell_type": "markdown",
   "id": "b8c4ea44",
   "metadata": {},
   "source": [
    "### Домашнее задание \"Проблема качества данных\"\n",
    "Необходимо запустить практическую часть занятия, и посмотреть самому то, о чём говорили на лекции. По образу практики, попробуйте создать искусственный датасет с лишними столбцами. Целевую метку, при правильной обработке данных, формируйте таким образом, чтобы без затруднений её смогла описать линейная модель. Ориентируйтесь на то, что было показано во время занятия, и каждый шаг описывайте в markdown. Здесь важно видеть ваш ход мысли. Не бойтесь ошибиться или написать не то. Данное задание не имеет какого-то “правильного” решения. Цель - достичь базового понимания проблемы. Чем больше вы фантазируете, тем лучше :) Тем не менее, старайтесь представить те ситуации, которые по-вашему мнению могли бы быть в реальных данных. Успеха!"
   ]
  },
  {
   "cell_type": "code",
   "execution_count": 9,
   "id": "956cde4b",
   "metadata": {},
   "outputs": [],
   "source": [
    "import numpy as np\n",
    "import pandas as pd\n",
    "import seaborn as sns\n",
    "import random\n",
    "\n",
    "from sklearn.linear_model import LinearRegression"
   ]
  },
  {
   "cell_type": "code",
   "execution_count": 17,
   "id": "e8ce1a3b",
   "metadata": {},
   "outputs": [
    {
     "data": {
      "text/html": [
       "<div>\n",
       "<style scoped>\n",
       "    .dataframe tbody tr th:only-of-type {\n",
       "        vertical-align: middle;\n",
       "    }\n",
       "\n",
       "    .dataframe tbody tr th {\n",
       "        vertical-align: top;\n",
       "    }\n",
       "\n",
       "    .dataframe thead th {\n",
       "        text-align: right;\n",
       "    }\n",
       "</style>\n",
       "<table border=\"1\" class=\"dataframe\">\n",
       "  <thead>\n",
       "    <tr style=\"text-align: right;\">\n",
       "      <th></th>\n",
       "      <th>length</th>\n",
       "      <th>width</th>\n",
       "      <th>m2</th>\n",
       "      <th>flat</th>\n",
       "      <th>coef_flat</th>\n",
       "      <th>price</th>\n",
       "    </tr>\n",
       "  </thead>\n",
       "  <tbody>\n",
       "    <tr>\n",
       "      <th>0</th>\n",
       "      <td>19</td>\n",
       "      <td>6</td>\n",
       "      <td>114</td>\n",
       "      <td>8</td>\n",
       "      <td>1.08</td>\n",
       "      <td>30780000.0</td>\n",
       "    </tr>\n",
       "    <tr>\n",
       "      <th>1</th>\n",
       "      <td>15</td>\n",
       "      <td>5</td>\n",
       "      <td>75</td>\n",
       "      <td>12</td>\n",
       "      <td>1.12</td>\n",
       "      <td>21000000.0</td>\n",
       "    </tr>\n",
       "    <tr>\n",
       "      <th>2</th>\n",
       "      <td>19</td>\n",
       "      <td>13</td>\n",
       "      <td>247</td>\n",
       "      <td>4</td>\n",
       "      <td>1.04</td>\n",
       "      <td>64220000.0</td>\n",
       "    </tr>\n",
       "    <tr>\n",
       "      <th>3</th>\n",
       "      <td>10</td>\n",
       "      <td>6</td>\n",
       "      <td>60</td>\n",
       "      <td>19</td>\n",
       "      <td>1.19</td>\n",
       "      <td>17850000.0</td>\n",
       "    </tr>\n",
       "    <tr>\n",
       "      <th>4</th>\n",
       "      <td>11</td>\n",
       "      <td>9</td>\n",
       "      <td>99</td>\n",
       "      <td>25</td>\n",
       "      <td>1.25</td>\n",
       "      <td>30937500.0</td>\n",
       "    </tr>\n",
       "  </tbody>\n",
       "</table>\n",
       "</div>"
      ],
      "text/plain": [
       "   length  width   m2  flat  coef_flat       price\n",
       "0      19      6  114     8       1.08  30780000.0\n",
       "1      15      5   75    12       1.12  21000000.0\n",
       "2      19     13  247     4       1.04  64220000.0\n",
       "3      10      6   60    19       1.19  17850000.0\n",
       "4      11      9   99    25       1.25  30937500.0"
      ]
     },
     "execution_count": 17,
     "metadata": {},
     "output_type": "execute_result"
    }
   ],
   "source": [
    "# Создадим рандомные данные по стоимости квартиры в зависимости от возраста владельца и параметров квартиры\n",
    "n_samples = 100000\n",
    "\n",
    "length = np.random.choice(15, n_samples) + 5  # длина \n",
    "width = np.random.choice(10, n_samples) + 5  # ширина\n",
    "flat = np.random.choice(25, n_samples) + 1  # Этаж\n",
    "\n",
    "price = (length * width) * (1 + flat/100) * 250000\n",
    "data = pd.DataFrame({'length': length, 'width': width, 'm2': length * width, \n",
    "                     #предполагаем, что чем выше этаж, тем дороже\n",
    "                     'flat': flat, 'coef_flat':(1 + flat/100), \n",
    "                     'price': price})\n",
    "data.head(5)"
   ]
  },
  {
   "cell_type": "code",
   "execution_count": 18,
   "id": "a1d33e54",
   "metadata": {},
   "outputs": [
    {
     "data": {
      "text/html": [
       "<div>\n",
       "<style scoped>\n",
       "    .dataframe tbody tr th:only-of-type {\n",
       "        vertical-align: middle;\n",
       "    }\n",
       "\n",
       "    .dataframe tbody tr th {\n",
       "        vertical-align: top;\n",
       "    }\n",
       "\n",
       "    .dataframe thead th {\n",
       "        text-align: right;\n",
       "    }\n",
       "</style>\n",
       "<table border=\"1\" class=\"dataframe\">\n",
       "  <thead>\n",
       "    <tr style=\"text-align: right;\">\n",
       "      <th></th>\n",
       "      <th>length</th>\n",
       "      <th>width</th>\n",
       "      <th>m2</th>\n",
       "      <th>flat</th>\n",
       "      <th>coef_flat</th>\n",
       "      <th>price</th>\n",
       "    </tr>\n",
       "  </thead>\n",
       "  <tbody>\n",
       "    <tr>\n",
       "      <th>count</th>\n",
       "      <td>100000.000000</td>\n",
       "      <td>100000.000000</td>\n",
       "      <td>100000.000000</td>\n",
       "      <td>100000.000000</td>\n",
       "      <td>100000.000000</td>\n",
       "      <td>1.000000e+05</td>\n",
       "    </tr>\n",
       "    <tr>\n",
       "      <th>mean</th>\n",
       "      <td>11.991220</td>\n",
       "      <td>9.501370</td>\n",
       "      <td>113.985250</td>\n",
       "      <td>13.019370</td>\n",
       "      <td>1.130194</td>\n",
       "      <td>3.220959e+07</td>\n",
       "    </tr>\n",
       "    <tr>\n",
       "      <th>std</th>\n",
       "      <td>4.326311</td>\n",
       "      <td>2.866273</td>\n",
       "      <td>55.118103</td>\n",
       "      <td>7.213619</td>\n",
       "      <td>0.072136</td>\n",
       "      <td>1.575930e+07</td>\n",
       "    </tr>\n",
       "    <tr>\n",
       "      <th>min</th>\n",
       "      <td>5.000000</td>\n",
       "      <td>5.000000</td>\n",
       "      <td>25.000000</td>\n",
       "      <td>1.000000</td>\n",
       "      <td>1.010000</td>\n",
       "      <td>6.312500e+06</td>\n",
       "    </tr>\n",
       "    <tr>\n",
       "      <th>25%</th>\n",
       "      <td>8.000000</td>\n",
       "      <td>7.000000</td>\n",
       "      <td>70.000000</td>\n",
       "      <td>7.000000</td>\n",
       "      <td>1.070000</td>\n",
       "      <td>1.980000e+07</td>\n",
       "    </tr>\n",
       "    <tr>\n",
       "      <th>50%</th>\n",
       "      <td>12.000000</td>\n",
       "      <td>9.000000</td>\n",
       "      <td>104.000000</td>\n",
       "      <td>13.000000</td>\n",
       "      <td>1.130000</td>\n",
       "      <td>2.921250e+07</td>\n",
       "    </tr>\n",
       "    <tr>\n",
       "      <th>75%</th>\n",
       "      <td>16.000000</td>\n",
       "      <td>12.000000</td>\n",
       "      <td>152.000000</td>\n",
       "      <td>19.000000</td>\n",
       "      <td>1.190000</td>\n",
       "      <td>4.248000e+07</td>\n",
       "    </tr>\n",
       "    <tr>\n",
       "      <th>max</th>\n",
       "      <td>19.000000</td>\n",
       "      <td>14.000000</td>\n",
       "      <td>266.000000</td>\n",
       "      <td>25.000000</td>\n",
       "      <td>1.250000</td>\n",
       "      <td>8.312500e+07</td>\n",
       "    </tr>\n",
       "  </tbody>\n",
       "</table>\n",
       "</div>"
      ],
      "text/plain": [
       "              length          width             m2           flat  \\\n",
       "count  100000.000000  100000.000000  100000.000000  100000.000000   \n",
       "mean       11.991220       9.501370     113.985250      13.019370   \n",
       "std         4.326311       2.866273      55.118103       7.213619   \n",
       "min         5.000000       5.000000      25.000000       1.000000   \n",
       "25%         8.000000       7.000000      70.000000       7.000000   \n",
       "50%        12.000000       9.000000     104.000000      13.000000   \n",
       "75%        16.000000      12.000000     152.000000      19.000000   \n",
       "max        19.000000      14.000000     266.000000      25.000000   \n",
       "\n",
       "           coef_flat         price  \n",
       "count  100000.000000  1.000000e+05  \n",
       "mean        1.130194  3.220959e+07  \n",
       "std         0.072136  1.575930e+07  \n",
       "min         1.010000  6.312500e+06  \n",
       "25%         1.070000  1.980000e+07  \n",
       "50%         1.130000  2.921250e+07  \n",
       "75%         1.190000  4.248000e+07  \n",
       "max         1.250000  8.312500e+07  "
      ]
     },
     "execution_count": 18,
     "metadata": {},
     "output_type": "execute_result"
    }
   ],
   "source": [
    "data.describe()"
   ]
  },
  {
   "cell_type": "code",
   "execution_count": 19,
   "id": "4bebac57",
   "metadata": {},
   "outputs": [
    {
     "name": "stdout",
     "output_type": "stream",
     "text": [
      "Weights: [2684680.63049608 3395181.50549589  287064.39199242]\n",
      "Bias: -35979280.32906493\n",
      "Error: 2710542.852303532\n"
     ]
    }
   ],
   "source": [
    "# предположим, что мы не знаем зависимость между параметрами\n",
    "# cоздаём модель и обучаем её на наших признаках.\n",
    "from sklearn.metrics import mean_absolute_error\n",
    "\n",
    "X = data[['length', 'width', 'flat']]\n",
    "y = data['price']\n",
    "reg = LinearRegression().fit(X, y)\n",
    "print('Weights: {}'.format(reg.coef_))\n",
    "print('Bias: {}'.format(reg.intercept_))\n",
    "\n",
    "pred_values = reg.predict(data[['length', 'width', 'flat']])\n",
    "print('Error: {}'.format(mean_absolute_error(pred_values, y)))"
   ]
  },
  {
   "cell_type": "code",
   "execution_count": 20,
   "id": "32c997ea",
   "metadata": {},
   "outputs": [
    {
     "data": {
      "text/plain": [
       "29212500.0"
      ]
     },
     "execution_count": 20,
     "metadata": {},
     "output_type": "execute_result"
    }
   ],
   "source": [
    "y.median()"
   ]
  },
  {
   "cell_type": "markdown",
   "id": "1e1328ba",
   "metadata": {},
   "source": [
    "Наблюдаем очень большую ошибку предсказания (средняя абсолютная ошибка порядка 2710542 и bias -35979280).\n",
    "\n",
    "Используем признак m2 "
   ]
  },
  {
   "cell_type": "code",
   "execution_count": 23,
   "id": "829e4b4d",
   "metadata": {},
   "outputs": [
    {
     "name": "stdout",
     "output_type": "stream",
     "text": [
      "Weights: [282893.38215389]\n",
      "Bias: -36083.91315701604\n",
      "Error: 1780979.4838090318\n"
     ]
    }
   ],
   "source": [
    "X = data[['m2']]\n",
    "y = data['price']\n",
    "reg = LinearRegression().fit(X, y)\n",
    "print('Weights: {}'.format(reg.coef_))\n",
    "print('Bias: {}'.format(reg.intercept_))\n",
    "\n",
    "pred_values = reg.predict(data[['m2']])\n",
    "print('Error: {}'.format(mean_absolute_error(pred_values, y)))"
   ]
  },
  {
   "cell_type": "markdown",
   "id": "eec54a32",
   "metadata": {},
   "source": [
    "Используем признак coef_flat"
   ]
  },
  {
   "cell_type": "code",
   "execution_count": 24,
   "id": "098cdcfb",
   "metadata": {},
   "outputs": [
    {
     "name": "stdout",
     "output_type": "stream",
     "text": [
      "Weights: [29239472.30367356]\n",
      "Bias: -836678.4139363468\n",
      "Error: 12814652.59922529\n"
     ]
    }
   ],
   "source": [
    "X = data[['coef_flat']]\n",
    "y = data['price']\n",
    "reg = LinearRegression().fit(X, y)\n",
    "print('Weights: {}'.format(reg.coef_))\n",
    "print('Bias: {}'.format(reg.intercept_))\n",
    "\n",
    "pred_values = reg.predict(data[['coef_flat']])\n",
    "print('Error: {}'.format(mean_absolute_error(pred_values, y)))"
   ]
  },
  {
   "cell_type": "markdown",
   "id": "0fc5e383",
   "metadata": {},
   "source": [
    "Используя признак m2 ошибка предсказания существенно изменилась, в сторону улучшения  (средняя абсолютная ошибка порядка 1780979 и смещение bias -36083).  \n",
    "Таким образом, можно сделать вывод, что предобработка позволяет улучшить результаты предсказания."
   ]
  },
  {
   "cell_type": "code",
   "execution_count": null,
   "id": "86089270",
   "metadata": {},
   "outputs": [],
   "source": []
  }
 ],
 "metadata": {
  "kernelspec": {
   "display_name": "Python 3 (ipykernel)",
   "language": "python",
   "name": "python3"
  },
  "language_info": {
   "codemirror_mode": {
    "name": "ipython",
    "version": 3
   },
   "file_extension": ".py",
   "mimetype": "text/x-python",
   "name": "python",
   "nbconvert_exporter": "python",
   "pygments_lexer": "ipython3",
   "version": "3.9.7"
  }
 },
 "nbformat": 4,
 "nbformat_minor": 5
}
